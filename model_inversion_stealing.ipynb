{
 "cells": [
  {
   "cell_type": "markdown",
   "metadata": {},
   "source": [
    "# Model Inversion & Stealing"
   ]
  },
  {
   "cell_type": "code",
   "execution_count": 1,
   "metadata": {},
   "outputs": [],
   "source": [
    "import numpy as np\n",
    "import torch\n",
    "from torchvision import transforms, datasets\n",
    "from torchvision.utils import save_image\n",
    "import torchvision\n",
    "\n",
    "import unsplit.attacks as unsplit\n",
    "from unsplit.models import *\n",
    "from unsplit.util import *"
   ]
  },
  {
   "cell_type": "markdown",
   "metadata": {},
   "source": [
    "Change the dataset and split layer values as desired. Dataset can be one of `mnist`, `f_mnist`, or `cifar` while the split depth is between 1 and 6 for MNIST datasets, and 1 and 8 for the CIFAR dataset."
   ]
  },
  {
   "cell_type": "code",
   "execution_count": 2,
   "metadata": {},
   "outputs": [
    {
     "name": "stdout",
     "output_type": "stream",
     "text": [
      "Files already downloaded and verified\n",
      "Files already downloaded and verified\n"
     ]
    }
   ],
   "source": [
    "dataset = 'cifar'\n",
    "split_layer = 2\n",
    "data_root = '/root/autodl-tmp'\n",
    "if dataset == 'mnist':\n",
    "    trainset = datasets.MNIST(data_root+'/mnist', download=True, train=True, transform=transforms.ToTensor())\n",
    "    testset = datasets.MNIST(data_root+'/mnist', download=True, train=False, transform=transforms.ToTensor())\n",
    "    client, server, clone = MnistNet(), MnistNet(), MnistNet()\n",
    "elif dataset == 'f_mnist':\n",
    "    trainset = datasets.FashionMNIST(data_root+'/f_mnist', download=True, train=True, transform=transforms.ToTensor())\n",
    "    testset = datasets.FashionMNIST(data_root+'/f_mnist', download=True, train=False, transform=transforms.ToTensor())\n",
    "    client, server, clone = MnistNet(), MnistNet(), MnistNet()\n",
    "elif dataset == 'cifar':\n",
    "    trainset = datasets.CIFAR10(data_root+'/cifar', download=True, train=True, transform=transforms.ToTensor())\n",
    "    testset = datasets.CIFAR10(data_root+'/cifar', download=True, train=False, transform=transforms.ToTensor())\n",
    "    client, server, clone = CifarNet(), CifarNet(), CifarNet()\n",
    "\n",
    "trainloader = torch.utils.data.DataLoader(trainset, shuffle=True, batch_size=64)\n",
    "testloader = torch.utils.data.DataLoader(testset, shuffle=True)"
   ]
  },
  {
   "cell_type": "markdown",
   "metadata": {},
   "source": [
    "The next part trains the client and server models. You can skip this step and launch the attack directly as well."
   ]
  },
  {
   "cell_type": "code",
   "execution_count": 4,
   "metadata": {},
   "outputs": [
    {
     "name": "stdout",
     "output_type": "stream",
     "text": [
      "Epoch: 0 Loss: 1.6322880983352661 Acc: 55.65985643291\n"
     ]
    }
   ],
   "source": [
    "client = client.to('cuda:0')\n",
    "server = server.to('cuda:0')\n",
    "clone = clone.to('cuda:0')\n",
    "\n",
    "client_opt = torch.optim.Adam(client.parameters(), lr=0.001, amsgrad=True)\n",
    "server_opt = torch.optim.Adam(server.parameters(), lr=0.001, amsgrad=True)\n",
    "criterion = torch.nn.CrossEntropyLoss()\n",
    "\n",
    "epochs = 1\n",
    "for epoch in range(epochs):\n",
    "    running_loss = 0\n",
    "    for images, labels in trainloader:\n",
    "        images = images.to('cuda:0')\n",
    "        labels = labels.to('cuda:0')\n",
    "        client_opt.zero_grad()\n",
    "        server_opt.zero_grad()\n",
    "\n",
    "        pred = server(client(images, end=split_layer), start=split_layer+1)\n",
    "\n",
    "        loss = criterion(pred, labels)\n",
    "        loss.backward()\n",
    "        running_loss += loss\n",
    "\n",
    "        server_opt.step()\n",
    "        client_opt.step()\n",
    "    else:\n",
    "        print(f'Epoch: {epoch} Loss: {running_loss / len(trainloader)} Acc: {get_test_score(client, server, testset, split=split_layer)}')\n"
   ]
  },
  {
   "cell_type": "markdown",
   "metadata": {},
   "source": [
    "We are now ready to launch the attack. The next code cell loads `COUNT` many examples from each class of the dataset. Those examples will be used as targets in the attack."
   ]
  },
  {
   "cell_type": "code",
   "execution_count": 5,
   "metadata": {},
   "outputs": [
    {
     "data": {
      "image/png": "[encoded data removed]",
      "text/plain": [
       "<Figure size 432x288 with 10 Axes>"
      ]
     },
     "metadata": {
      "needs_background": "light"
     },
     "output_type": "display_data"
    }
   ],
   "source": [
    "COUNT = 1\n",
    "\n",
    "inversion_targets = [get_examples_by_class(testset, c, count=COUNT) for c in range(10)]\n",
    "targetloader = torch.utils.data.DataLoader(inversion_targets, shuffle=False)\n",
    "mse = torch.nn.MSELoss()\n",
    "if dataset == 'cifar':\n",
    "    display_cifar(inversion_targets)\n",
    "else:\n",
    "    display_imagelist(inversion_targets, 28, 28)"
   ]
  },
  {
   "cell_type": "markdown",
   "metadata": {},
   "source": [
    "We now launch the attack, iterating over the examples from the previous cell.\n",
    "\n",
    "You can change the `main_iters`, `input_iters`, and `model_iters` variables to observe how the attack performs under different configurations."
   ]
  },
  {
   "cell_type": "code",
   "execution_count": 6,
   "metadata": {},
   "outputs": [
    {
     "name": "stdout",
     "output_type": "stream",
     "text": [
      "epoch:0 finished!\n",
      "epoch:100 finished!\n",
      "epoch:200 finished!\n",
      "epoch:300 finished!\n",
      "epoch:400 finished!\n",
      "epoch:500 finished!\n",
      "epoch:600 finished!\n",
      "epoch:700 finished!\n",
      "epoch:800 finished!\n",
      "epoch:900 finished!\n",
      "epoch:0 finished!\n",
      "epoch:100 finished!\n",
      "epoch:200 finished!\n",
      "epoch:300 finished!\n",
      "epoch:400 finished!\n",
      "epoch:800 finished!\n",
      "epoch:900 finished!\n",
      "epoch:0 finished!\n",
      "epoch:100 finished!\n",
      "epoch:200 finished!\n",
      "epoch:300 finished!\n",
      "epoch:400 finished!\n",
      "epoch:500 finished!\n",
      "epoch:600 finished!\n",
      "epoch:700 finished!\n",
      "epoch:800 finished!\n",
      "epoch:900 finished!\n",
      "epoch:0 finished!\n",
      "epoch:100 finished!\n",
      "epoch:200 finished!\n",
      "epoch:300 finished!\n",
      "epoch:400 finished!\n",
      "epoch:500 finished!\n",
      "epoch:600 finished!\n",
      "epoch:700 finished!\n",
      "epoch:800 finished!\n",
      "epoch:900 finished!\n",
      "epoch:0 finished!\n",
      "epoch:100 finished!\n",
      "epoch:200 finished!\n",
      "epoch:300 finished!\n",
      "epoch:400 finished!\n",
      "epoch:500 finished!\n",
      "epoch:600 finished!\n",
      "epoch:700 finished!\n",
      "epoch:800 finished!\n",
      "epoch:900 finished!\n",
      "epoch:0 finished!\n",
      "epoch:100 finished!\n",
      "epoch:200 finished!\n",
      "epoch:300 finished!\n",
      "epoch:400 finished!\n",
      "epoch:500 finished!\n",
      "epoch:600 finished!\n",
      "epoch:700 finished!\n",
      "epoch:800 finished!\n",
      "epoch:900 finished!\n",
      "epoch:0 finished!\n",
      "epoch:100 finished!\n",
      "epoch:200 finished!\n",
      "epoch:300 finished!\n",
      "epoch:400 finished!\n",
      "epoch:500 finished!\n",
      "epoch:600 finished!\n",
      "epoch:700 finished!\n",
      "epoch:800 finished!\n",
      "epoch:900 finished!\n",
      "epoch:0 finished!\n",
      "epoch:100 finished!\n",
      "epoch:200 finished!\n",
      "epoch:300 finished!\n",
      "epoch:400 finished!\n",
      "epoch:500 finished!\n",
      "epoch:700 finished!\n",
      "epoch:800 finished!\n",
      "epoch:900 finished!\n",
      "epoch:0 finished!\n",
      "epoch:100 finished!\n",
      "epoch:200 finished!\n",
      "epoch:300 finished!\n",
      "epoch:400 finished!\n",
      "epoch:500 finished!\n",
      "epoch:600 finished!\n",
      "epoch:700 finished!\n",
      "epoch:800 finished!\n",
      "epoch:900 finished!\n",
      "epoch:0 finished!\n",
      "epoch:100 finished!\n",
      "epoch:200 finished!\n",
      "epoch:300 finished!\n",
      "epoch:400 finished!\n",
      "epoch:500 finished!\n",
      "epoch:600 finished!\n",
      "epoch:700 finished!\n",
      "epoch:800 finished!\n",
      "epoch:900 finished!\n"
     ]
    },
    {
     "data": {
      "image/png": "[encoded data removed]",
      "text/plain": [
       "<Figure size 432x288 with 10 Axes>"
      ]
     },
     "metadata": {
      "needs_background": "light"
     },
     "output_type": "display_data"
    },
    {
     "data": {
      "image/png": "[encoded data removed]",
      "text/plain": [
       "<Figure size 432x288 with 10 Axes>"
      ]
     },
     "metadata": {
      "needs_background": "light"
     },
     "output_type": "display_data"
    }
   ],
   "source": [
    "results, losses = [], []\n",
    "for idx, target in enumerate(targetloader):\n",
    "    # obtain client output\n",
    "    target = target.to('cuda:0')\n",
    "    client_out = client(target, end=split_layer)\n",
    "\n",
    "    # perform the attack\n",
    "    result = unsplit.model_inversion_stealing(clone, split_layer, client_out, target.size() ,main_iters=1000, input_iters=100, model_iters=100)\n",
    "\n",
    "    # save result\n",
    "    if dataset == 'cifar':\n",
    "        result = normalize(result)\n",
    "    results.append(result)\n",
    "    loss = mse(result, target)\n",
    "    losses.append(loss)\n",
    "\n",
    "if dataset == 'cifar':\n",
    "    display_cifar(inversion_targets)\n",
    "    display_cifar(results)\n",
    "else:\n",
    "    display_imagelist(inversion_targets, 28, 28)\n",
    "    display_imagelist(results, 28, 28)"
   ]
  },
  {
   "cell_type": "code",
   "execution_count": 7,
   "metadata": {},
   "outputs": [
    {
     "name": "stdout",
     "output_type": "stream",
     "text": [
      "tensor(0.4316)\n",
      "tensor(0.2504)\n",
      "tensor(0.1968)\n",
      "tensor(0.2123)\n",
      "tensor(0.2568)\n",
      "tensor(0.2949)\n",
      "tensor(0.2890)\n",
      "tensor(0.2818)\n",
      "tensor(0.2468)\n",
      "tensor(0.3746)\n",
      "ssim:0.2835087776184082\n"
     ]
    }
   ],
   "source": [
    "import pytorch_msssim\n",
    "from pytorch_msssim import ssim\n",
    "#print(results[0])\n",
    "\n",
    "sum = 0\n",
    "for i in range(10):\n",
    "    target = inversion_targets[i].unsqueeze(0)\n",
    "    #print(target)\n",
    "    ssim_value = ssim(target.to('cpu'), results[i].to('cpu'), data_range=1.0, size_average=True, nonnegative_ssim=True)\n",
    "    print(ssim_value)\n",
    "    sum = sum + ssim_value\n",
    "\n",
    "average_ssim = sum/10\n",
    "print(f'ssim:{average_ssim}')"
   ]
  },
  {
   "cell_type": "code",
   "execution_count": 21,
   "metadata": {},
   "outputs": [
    {
     "name": "stdout",
     "output_type": "stream",
     "text": [
      "Setting up [LPIPS] perceptual loss: trunk [alex], v[0.1], spatial [off]\n"
     ]
    },
    {
     "name": "stderr",
     "output_type": "stream",
     "text": [
      "Downloading: \"https://download.pytorch.org/models/alexnet-owt-7be5be79.pth\" to /root/.cache/torch/hub/checkpoints/alexnet-owt-7be5be79.pth\n"
     ]
    },
    {
     "data": {
      "application/vnd.jupyter.widget-view+json": {
       "model_id": "79b26b641a034dc0b8beffa2bf45aff7",
       "version_major": 2,
       "version_minor": 0
      },
      "text/plain": [
       "  0%|          | 0.00/233M [00:00<?, ?B/s]"
      ]
     },
     "metadata": {},
     "output_type": "display_data"
    },
    {
     "name": "stdout",
     "output_type": "stream",
     "text": [
      "Loading model from: /root/miniconda3/lib/python3.8/site-packages/lpips/weights/v0.1/alex.pth\n",
      "Setting up [LPIPS] perceptual loss: trunk [vgg], v[0.1], spatial [off]\n"
     ]
    },
    {
     "name": "stderr",
     "output_type": "stream",
     "text": [
      "Downloading: \"https://download.pytorch.org/models/vgg16-397923af.pth\" to /root/.cache/torch/hub/checkpoints/vgg16-397923af.pth\n"
     ]
    },
    {
     "data": {
      "application/vnd.jupyter.widget-view+json": {
       "model_id": "ec7e48c2ff06488a94d91f19e39196d1",
       "version_major": 2,
       "version_minor": 0
      },
      "text/plain": [
       "  0%|          | 0.00/528M [00:00<?, ?B/s]"
      ]
     },
     "metadata": {},
     "output_type": "display_data"
    },
    {
     "name": "stdout",
     "output_type": "stream",
     "text": [
      "Loading model from: /root/miniconda3/lib/python3.8/site-packages/lpips/weights/v0.1/vgg.pth\n",
      "tensor([[[[0.2030]]]], grad_fn=<AddBackward0>)\n",
      "tensor([[[[0.4775]]]], grad_fn=<AddBackward0>)\n",
      "tensor([[[[0.2493]]]], grad_fn=<AddBackward0>)\n",
      "tensor([[[[0.6075]]]], grad_fn=<AddBackward0>)\n",
      "tensor([[[[0.3405]]]], grad_fn=<AddBackward0>)\n",
      "tensor([[[[0.8015]]]], grad_fn=<AddBackward0>)\n",
      "tensor([[[[0.4365]]]], grad_fn=<AddBackward0>)\n",
      "tensor([[[[0.7218]]]], grad_fn=<AddBackward0>)\n",
      "tensor([[[[0.4597]]]], grad_fn=<AddBackward0>)\n",
      "tensor([[[[0.7040]]]], grad_fn=<AddBackward0>)\n",
      "tensor([[[[0.4271]]]], grad_fn=<AddBackward0>)\n",
      "tensor([[[[0.6856]]]], grad_fn=<AddBackward0>)\n",
      "tensor([[[[0.3531]]]], grad_fn=<AddBackward0>)\n",
      "tensor([[[[0.6692]]]], grad_fn=<AddBackward0>)\n",
      "tensor([[[[0.2896]]]], grad_fn=<AddBackward0>)\n",
      "tensor([[[[0.4683]]]], grad_fn=<AddBackward0>)\n",
      "tensor([[[[0.1451]]]], grad_fn=<AddBackward0>)\n",
      "tensor([[[[0.5588]]]], grad_fn=<AddBackward0>)\n",
      "tensor([[[[0.0933]]]], grad_fn=<AddBackward0>)\n",
      "tensor([[[[0.3854]]]], grad_fn=<AddBackward0>)\n",
      "lpips_alex:tensor([[[[0.2997]]]], grad_fn=<DivBackward0>)\n",
      "lpips_vgg:tensor([[[[0.6080]]]], grad_fn=<DivBackward0>)\n"
     ]
    }
   ],
   "source": [
    "import lpips\n",
    "loss_fn_alex = lpips.LPIPS(net='alex') \n",
    "loss_fn_vgg = lpips.LPIPS(net='vgg')\n",
    "sum1 = 0\n",
    "sum2 = 0\n",
    "for i in range(10):\n",
    "    target = inversion_targets[i].unsqueeze(0)\n",
    "    lpips_alex = loss_fn_alex(target.to('cpu'), results[i].to('cpu'))\n",
    "    lpips_vgg = loss_fn_vgg(target.to('cpu'), results[i].to('cpu'))\n",
    "    print(lpips_alex)\n",
    "    print(lpips_vgg)\n",
    "    sum1 = sum1 + lpips_alex\n",
    "    sum2 = sum2 + lpips_vgg\n",
    "\n",
    "average_lpips_alex = sum1/10\n",
    "average_lpips_vgg = sum2/10\n",
    "print(f'lpips_alex:{average_lpips_alex}')\n",
    "print(f'lpips_vgg:{average_lpips_vgg}')   "
   ]
  },
  {
   "cell_type": "code",
   "execution_count": 26,
   "metadata": {},
   "outputs": [
    {
     "name": "stdout",
     "output_type": "stream",
     "text": [
      "tensor(0.4221)\n",
      "tensor(0.2504)\n",
      "tensor(0.1968)\n",
      "tensor(0.2123)\n",
      "tensor(0.2568)\n",
      "tensor(0.2949)\n",
      "tensor(0.2890)\n",
      "tensor(0.2663)\n",
      "tensor(0.2468)\n",
      "tensor(0.3746)\n",
      "PSNR:0.28099697828292847\n"
     ]
    }
   ],
   "source": [
    "import skimage\n",
    "from skimage.metrics import peak_signal_noise_ratio\n",
    "\n",
    "sum = 0\n",
    "for i in range(10):\n",
    "    target = inversion_targets[i].unsqueeze(0)\n",
    "    #print(target)\n",
    "    psnr_value = ssim(target.to('cpu'), results[i].to('cpu'), data_range=1.0)\n",
    "    print(psnr_value)\n",
    "    sum = sum + psnr_value\n",
    "\n",
    "average_psnr = sum/10\n",
    "print(f'PSNR:{average_psnr}')\n",
    "    "
   ]
  },
  {
   "cell_type": "code",
   "execution_count": 20,
   "metadata": {},
   "outputs": [],
   "source": [
    "from PIL import Image\n",
    "for i in range(10):\n",
    "    image = inversion_targets[i].to('cpu').detach().permute(1,2,0)*255\n",
    "    image = image.numpy().astype(np.uint8)\n",
    "    reconstruct = results[i].to('cpu').squeeze(0).detach().permute(1,2,0)*255\n",
    "    reconstruct = reconstruct.numpy().astype(np.uint8)\n",
    "    #print(image)\n",
    "    #print(image.shape)\n",
    "    image = Image.fromarray(image)\n",
    "    reconstruct = Image.fromarray(reconstruct)\n",
    "    image.save(f'image{i}.jpg')\n",
    "    reconstruct.save(f'reconstruct{i}.jpg')"
   ]
  },
  {
   "cell_type": "code",
   "execution_count": null,
   "metadata": {},
   "outputs": [],
   "source": []
  }
 ],
 "metadata": {
  "kernelspec": {
   "display_name": "Python 3 (ipykernel)",
   "language": "python",
   "name": "python3"
  },
  "language_info": {
   "codemirror_mode": {
    "name": "ipython",
    "version": 3
   },
   "file_extension": ".py",
   "mimetype": "text/x-python",
   "name": "python",
   "nbconvert_exporter": "python",
   "pygments_lexer": "ipython3",
   "version": "3.8.10"
  }
 },
 "nbformat": 4,
 "nbformat_minor": 4
}
